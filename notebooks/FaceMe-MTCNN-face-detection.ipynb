{
 "cells": [
  {
   "cell_type": "markdown",
   "metadata": {},
   "source": [
    "### Face Detection"
   ]
  },
  {
   "cell_type": "code",
   "execution_count": 2,
   "metadata": {},
   "outputs": [],
   "source": [
    "# Import libraries\n",
    "import time\n",
    "import pickle\n",
    "import numpy as np\n",
    "import cv2\n",
    "from mtcnn.mtcnn import MTCNN \n",
    "from tensorflow.keras.models import load_model"
   ]
  },
  {
   "cell_type": "code",
   "execution_count": 7,
   "metadata": {},
   "outputs": [],
   "source": [
    "#Load trained model\n",
    "model = load_model('../data/best-facemask-inceptionV3-model.h5')"
   ]
  },
  {
   "cell_type": "code",
   "execution_count": 8,
   "metadata": {},
   "outputs": [
    {
     "data": {
      "text/plain": [
       "{0: 'without_mask', 1: 'with_mask', 2: 'mask_weared_incorrect'}"
      ]
     },
     "execution_count": 8,
     "metadata": {},
     "output_type": "execute_result"
    }
   ],
   "source": [
    "#load labels\n",
    "with open('../data/labels.pkl', 'rb') as pf:\n",
    "    labels = pickle.load(pf)\n",
    "labels"
   ]
  },
  {
   "cell_type": "code",
   "execution_count": 9,
   "metadata": {},
   "outputs": [],
   "source": [
    "# Create detector with default weights\n",
    "detector = MTCNN()\n",
    "\n",
    "img_size = (150, 150) # set image size\n",
    "colors = {0: (0, 0, 255), 1: (0, 255, 0), 2: (0, 255, 255)} # set colors\n",
    "\n",
    "# Video from webcam\n",
    "cap = cv2.VideoCapture(0)\n",
    "\n",
    "\n",
    "start_time = time.time()\n",
    "frame_count = 0\n",
    "\n",
    "while cap.isOpened():\n",
    "    ret, frame = cap.read() \n",
    "    \n",
    "    if not ret:\n",
    "        break\n",
    "    \n",
    "    frame_count += 1     # for fps\n",
    "    frame = cv2.flip(frame, 1)       # Mirror the image\n",
    "    rgb = cv2.cvtColor(frame, cv2.COLOR_BGR2RGB)\n",
    "    faces = detector.detect_faces(rgb)\n",
    "    for face in faces:\n",
    "        try:\n",
    "            x, y, w, h = face['box'] \n",
    "            roi =  rgb[y : y+h, x : x+w]\n",
    "            data = cv2.resize(roi, img_size)/ 255.    #resize imge and flatten\n",
    "            data = data.reshape((1,) + data.shape)    #reshape the data to fit model\n",
    "            scores = model.predict(data)              #predict\n",
    "            target = np.argmax(scores, axis=1)[0]\n",
    "            \n",
    "            # Draw bounding boxes\n",
    "            cv2.rectangle(img=frame, pt1=(x, y), pt2=(x+w, y+h), color=colors[target], thickness=2)\n",
    "            text = \"{}: {:.2f}\".format(labels[target], scores[0][target])\n",
    "            cv2.putText(frame, text, (x, y-5), cv2.FONT_HERSHEY_SIMPLEX, 0.6, (255, 255, 255), 1)\n",
    "            \n",
    "        except Exception as e:\n",
    "            print(e)\n",
    "            print(roi.shape)\n",
    "\n",
    "    elapsed_time = time.time() - start_time\n",
    "    fps = frame_count / elapsed_time\n",
    "    cv2.putText(img=frame, text='FPS : ' + str(round(fps, 2)), org=(10, 20), fontFace=cv2.FONT_HERSHEY_SIMPLEX, fontScale=0.5, color=(255,255,255), thickness=1)\n",
    "\n",
    "    # Show the frame\n",
    "    cv2.imshow('Face Mask Detection', frame)\n",
    "\n",
    "    if cv2.waitKey(1) & 0xFF == 27:\n",
    "        break\n",
    "\n",
    "cap.release()\n",
    "cv2.destroyAllWindows()"
   ]
  }
 ],
 "metadata": {
  "kernelspec": {
   "display_name": "lhl_env",
   "language": "python",
   "name": "lhl_env"
  },
  "language_info": {
   "codemirror_mode": {
    "name": "ipython",
    "version": 3
   },
   "file_extension": ".py",
   "mimetype": "text/x-python",
   "name": "python",
   "nbconvert_exporter": "python",
   "pygments_lexer": "ipython3",
   "version": "3.8.5"
  }
 },
 "nbformat": 4,
 "nbformat_minor": 4
}
